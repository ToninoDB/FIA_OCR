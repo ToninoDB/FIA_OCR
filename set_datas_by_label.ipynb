{
 "cells": [
  {
   "cell_type": "markdown",
   "metadata": {},
   "source": [
    "Divido i file del dataset per sottocartelle avente per nome la label delle immagini così da poter addestrare il modello su ogni carattere contenuto nel dataset."
   ]
  },
  {
   "cell_type": "code",
   "execution_count": 1,
   "metadata": {},
   "outputs": [
    {
     "name": "stdout",
     "output_type": "stream",
     "text": [
      "Organizzazione dei file completata.\n"
     ]
    }
   ],
   "source": [
    "#Divisione in sottocartelle della cartella di test\n",
    "\n",
    "import os\n",
    "import shutil\n",
    "\n",
    "def organize_files_by_label(directory):\n",
    "    # Assicurati che il percorso fornito sia una directory\n",
    "    if not os.path.isdir(directory):\n",
    "        print(f\"Errore: {directory} non è una directory valida.\")\n",
    "        return\n",
    "    \n",
    "    # Leggi tutti i file nella directory\n",
    "    for filename in os.listdir(directory):\n",
    "        # Controlla se il file è nel formato desiderato\n",
    "        if filename.endswith(\".png\") and \"_\" in filename:\n",
    "            label = filename.split(\"_\")[0]  # Estrai la label dal nome del file\n",
    "            label_dir = os.path.join(directory, label)  # Crea il percorso per la sottocartella\n",
    "            \n",
    "            # Crea la sottocartella se non esiste\n",
    "            if not os.path.exists(label_dir):\n",
    "                os.makedirs(label_dir)\n",
    "            \n",
    "            # Sposta il file nella sottocartella corrispondente\n",
    "            src_path = os.path.join(directory, filename)\n",
    "            dst_path = os.path.join(label_dir, filename)\n",
    "            shutil.move(src_path, dst_path)\n",
    "    \n",
    "    print(\"Organizzazione dei file completata.\")\n",
    "\n",
    "# Specifica il percorso della directory principale\n",
    "main_directory = \"data/emnist_test_images\"\n",
    "organize_files_by_label(main_directory)\n"
   ]
  },
  {
   "cell_type": "code",
   "execution_count": 3,
   "metadata": {},
   "outputs": [
    {
     "name": "stdout",
     "output_type": "stream",
     "text": [
      "Organizzazione dei file completata.\n"
     ]
    }
   ],
   "source": [
    "#Divisione in sottocartelle della cartella di train\n",
    "\n",
    "import os\n",
    "import shutil\n",
    "\n",
    "def organize_files_by_label(directory):\n",
    "    # Assicurati che il percorso fornito sia una directory\n",
    "    if not os.path.isdir(directory):\n",
    "        print(f\"Errore: {directory} non è una directory valida.\")\n",
    "        return\n",
    "    \n",
    "    # Leggi tutti i file nella directory\n",
    "    for filename in os.listdir(directory):\n",
    "        # Controlla se il file è nel formato desiderato\n",
    "        if filename.endswith(\".png\") and \"_\" in filename:\n",
    "            label = filename.split(\"_\")[0]  # Estrai la label dal nome del file\n",
    "            label_dir = os.path.join(directory, label)  # Crea il percorso per la sottocartella\n",
    "            \n",
    "            # Crea la sottocartella se non esiste\n",
    "            if not os.path.exists(label_dir):\n",
    "                os.makedirs(label_dir)\n",
    "            \n",
    "            # Sposta il file nella sottocartella corrispondente\n",
    "            src_path = os.path.join(directory, filename)\n",
    "            dst_path = os.path.join(label_dir, filename)\n",
    "            shutil.move(src_path, dst_path)\n",
    "    \n",
    "    print(\"Organizzazione dei file completata.\")\n",
    "\n",
    "# Specifica il percorso della directory principale\n",
    "main_directory = \"data/emnist_train_images\"\n",
    "organize_files_by_label(main_directory)\n"
   ]
  },
  {
   "cell_type": "code",
   "execution_count": 4,
   "metadata": {},
   "outputs": [],
   "source": [
    "\n",
    "def count_files_in_subfolders(directory):\n",
    "    # Assicurati che il percorso fornito sia una directory\n",
    "    if not os.path.isdir(directory):\n",
    "        print(f\"Errore: {directory} non è una directory valida.\")\n",
    "        return\n",
    "    \n",
    "    label_counts = {}\n",
    "    \n",
    "    # Leggi tutte le sottocartelle nella directory\n",
    "    for subfolder in os.listdir(directory):\n",
    "        subfolder_path = os.path.join(directory, subfolder)\n",
    "        \n",
    "        # Controlla se il percorso è una directory\n",
    "        if os.path.isdir(subfolder_path):\n",
    "            file_count = len([name for name in os.listdir(subfolder_path) if os.path.isfile(os.path.join(subfolder_path, name))])\n",
    "            label_counts[subfolder] = file_count\n",
    "    \n",
    "    return label_counts"
   ]
  },
  {
   "cell_type": "code",
   "execution_count": 12,
   "metadata": {},
   "outputs": [],
   "source": [
    "def print_label_counts(label_counts):\n",
    "    print(\"Conteggio dei file per ciascuna sottocartella (ordinato per label numerico):\")\n",
    "    # Ordina le chiavi numericamente\n",
    "    sorted_labels = sorted(label_counts.keys(), key=lambda x: int(x))\n",
    "    for label in sorted_labels:\n",
    "        print(f\"Label '{label}': {label_counts[label]} file\")"
   ]
  },
  {
   "cell_type": "markdown",
   "metadata": {},
   "source": [
    "Conteggio dei dati di test"
   ]
  },
  {
   "cell_type": "code",
   "execution_count": 13,
   "metadata": {},
   "outputs": [
    {
     "name": "stdout",
     "output_type": "stream",
     "text": [
      "Conteggio dei file per ciascuna sottocartella (ordinato per label numerico):\n",
      "Label '0': 400 file\n",
      "Label '1': 400 file\n",
      "Label '2': 400 file\n",
      "Label '3': 400 file\n",
      "Label '4': 400 file\n",
      "Label '5': 400 file\n",
      "Label '6': 400 file\n",
      "Label '7': 400 file\n",
      "Label '8': 400 file\n",
      "Label '9': 400 file\n",
      "Label '10': 400 file\n",
      "Label '11': 400 file\n",
      "Label '12': 400 file\n",
      "Label '13': 400 file\n",
      "Label '14': 400 file\n",
      "Label '15': 400 file\n",
      "Label '16': 400 file\n",
      "Label '17': 400 file\n",
      "Label '18': 400 file\n",
      "Label '19': 400 file\n",
      "Label '20': 400 file\n",
      "Label '21': 400 file\n",
      "Label '22': 400 file\n",
      "Label '23': 400 file\n",
      "Label '24': 400 file\n",
      "Label '25': 400 file\n",
      "Label '26': 400 file\n",
      "Label '27': 400 file\n",
      "Label '28': 400 file\n",
      "Label '29': 400 file\n",
      "Label '30': 400 file\n",
      "Label '31': 400 file\n",
      "Label '32': 400 file\n",
      "Label '33': 400 file\n",
      "Label '34': 400 file\n",
      "Label '35': 400 file\n",
      "Label '36': 400 file\n",
      "Label '37': 400 file\n",
      "Label '38': 400 file\n",
      "Label '39': 400 file\n",
      "Label '40': 400 file\n",
      "Label '41': 400 file\n",
      "Label '42': 400 file\n",
      "Label '43': 400 file\n",
      "Label '44': 400 file\n",
      "Label '45': 400 file\n",
      "Label '46': 400 file\n"
     ]
    }
   ],
   "source": [
    "label_counts = count_files_in_subfolders(\"data/emnist_test_images\")\n",
    "print_label_counts(label_counts)"
   ]
  },
  {
   "cell_type": "markdown",
   "metadata": {},
   "source": [
    "Conteggio dei dati di train"
   ]
  },
  {
   "cell_type": "code",
   "execution_count": 14,
   "metadata": {},
   "outputs": [
    {
     "name": "stdout",
     "output_type": "stream",
     "text": [
      "Conteggio dei file per ciascuna sottocartella (ordinato per label numerico):\n",
      "Label '0': 2400 file\n",
      "Label '1': 2400 file\n",
      "Label '2': 2400 file\n",
      "Label '3': 2400 file\n",
      "Label '4': 2400 file\n",
      "Label '5': 2400 file\n",
      "Label '6': 2400 file\n",
      "Label '7': 2400 file\n",
      "Label '8': 2400 file\n",
      "Label '9': 2400 file\n",
      "Label '10': 2400 file\n",
      "Label '11': 2400 file\n",
      "Label '12': 2400 file\n",
      "Label '13': 2400 file\n",
      "Label '14': 2400 file\n",
      "Label '15': 2400 file\n",
      "Label '16': 2400 file\n",
      "Label '17': 2400 file\n",
      "Label '18': 2400 file\n",
      "Label '19': 2400 file\n",
      "Label '20': 2400 file\n",
      "Label '21': 2400 file\n",
      "Label '22': 2400 file\n",
      "Label '23': 2400 file\n",
      "Label '24': 2400 file\n",
      "Label '25': 2400 file\n",
      "Label '26': 2400 file\n",
      "Label '27': 2400 file\n",
      "Label '28': 2400 file\n",
      "Label '29': 2400 file\n",
      "Label '30': 2400 file\n",
      "Label '31': 2400 file\n",
      "Label '32': 2400 file\n",
      "Label '33': 2400 file\n",
      "Label '34': 2400 file\n",
      "Label '35': 2400 file\n",
      "Label '36': 2400 file\n",
      "Label '37': 2400 file\n",
      "Label '38': 2400 file\n",
      "Label '39': 2400 file\n",
      "Label '40': 2400 file\n",
      "Label '41': 2400 file\n",
      "Label '42': 2400 file\n",
      "Label '43': 2400 file\n",
      "Label '44': 2400 file\n",
      "Label '45': 2400 file\n",
      "Label '46': 2400 file\n"
     ]
    }
   ],
   "source": [
    "label_counts = count_files_in_subfolders(\"data/emnist_train_images\")\n",
    "print_label_counts(label_counts)"
   ]
  }
 ],
 "metadata": {
  "kernelspec": {
   "display_name": "Python 3",
   "language": "python",
   "name": "python3"
  },
  "language_info": {
   "codemirror_mode": {
    "name": "ipython",
    "version": 3
   },
   "file_extension": ".py",
   "mimetype": "text/x-python",
   "name": "python",
   "nbconvert_exporter": "python",
   "pygments_lexer": "ipython3",
   "version": "3.10.7"
  }
 },
 "nbformat": 4,
 "nbformat_minor": 2
}
