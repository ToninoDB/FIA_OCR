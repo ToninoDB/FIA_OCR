{
 "cells": [
  {
   "cell_type": "markdown",
   "metadata": {},
   "source": [
    "\"Deskew delle immagini\"\n",
    "\n",
    "Consiste nel ruotare e raddrizzare le immagini in modo da non riscontrare problemi durante la fase successiva di feature extraction."
   ]
  },
  {
   "cell_type": "code",
   "execution_count": 50,
   "metadata": {},
   "outputs": [],
   "source": [
    "import cv2 as cv\n",
    "import numpy as np\n",
    "\n",
    "def deskew(img):\n",
    "    # Assicurati che l'immagine sia in scala di grigi\n",
    "    if len(img.shape) == 3:  # 3 canali, quindi è a colori\n",
    "        img = cv.cvtColor(img, cv.COLOR_BGR2GRAY)\n",
    "    \n",
    "    # Controlla se l'immagine è in scala di grigi\n",
    "    if len(img.shape) != 2:\n",
    "        raise ValueError(\"L'immagine deve essere in scala di grigi.\")\n",
    "    \n",
    "    m = cv.moments(img)\n",
    "    if abs(m['mu02']) < 1e-2:\n",
    "        return img.copy()\n",
    "\n",
    "    skew = m['mu11'] / m['mu02']\n",
    "    M = np.float32([[1, skew, 0], [0, 1, 0]])\n",
    "    rows, cols = img.shape\n",
    "    deskewed_img = cv.warpAffine(img, M, (cols, rows), flags=cv.WARP_INVERSE_MAP | cv.INTER_LINEAR)\n",
    "    return deskewed_img"
   ]
  },
  {
   "cell_type": "markdown",
   "metadata": {},
   "source": [
    "COMMENTO DA QUI ALLA FINE DEL FILE"
   ]
  },
  {
   "cell_type": "markdown",
   "metadata": {},
   "source": [
    "\"Feature extraction con tecnica HOG\""
   ]
  },
  {
   "cell_type": "code",
   "execution_count": 61,
   "metadata": {},
   "outputs": [],
   "source": [
    "from skimage.feature import hog\n",
    "from skimage import io, color\n",
    "import matplotlib.pyplot as plt\n",
    "\n",
    "def hog_feature_extraction(image_path):\n",
    "    image = cv.imread(image_path)\n",
    "    #deskewed_image = deskew(image)\n",
    "\n",
    "    if len(image.shape) != 2:\n",
    "        raise ValueError(\"L'immagine non è in scala di grigi.\")\n",
    "\n",
    "    hog_descriptor, hog_image = hog(image, \n",
    "                         pixels_per_cell = (8, 8),\n",
    "                         cells_per_block = (2, 2),\n",
    "                         visualize = True)\n",
    "    \n",
    "    \"\"\" # Display the original image and HOG image for debugging\n",
    "    fig, (ax1, ax2) = plt.subplots(1, 2, figsize=(12, 6), sharex=True, sharey=True)\n",
    "\n",
    "    ax1.axis('off')\n",
    "    ax1.imshow(gray_image, cmap=plt.cm.gray)\n",
    "    ax1.set_title('Input Image')\n",
    "\n",
    "    ax2.axis('off')\n",
    "    ax2.imshow(hog_image, cmap=plt.cm.gray)\n",
    "    ax2.set_title('HOG Gradient Image')\n",
    "\n",
    "    plt.show()\"\"\"\n",
    "\n",
    "    return hog_descriptor"
   ]
  },
  {
   "cell_type": "code",
   "execution_count": 62,
   "metadata": {},
   "outputs": [
    {
     "ename": "ValueError",
     "evalue": "L'immagine non è in scala di grigi.",
     "output_type": "error",
     "traceback": [
      "\u001b[0;31m---------------------------------------------------------------------------\u001b[0m",
      "\u001b[0;31mValueError\u001b[0m                                Traceback (most recent call last)",
      "Cell \u001b[0;32mIn[62], line 10\u001b[0m\n\u001b[1;32m      8\u001b[0m \u001b[38;5;28;01mif\u001b[39;00m(filename\u001b[38;5;241m.\u001b[39mendswith(\u001b[38;5;124m\"\u001b[39m\u001b[38;5;124m.png\u001b[39m\u001b[38;5;124m\"\u001b[39m)):\n\u001b[1;32m      9\u001b[0m     image_path \u001b[38;5;241m=\u001b[39m os\u001b[38;5;241m.\u001b[39mpath\u001b[38;5;241m.\u001b[39mjoin(image_dir, filename)\n\u001b[0;32m---> 10\u001b[0m     hog_descriptor \u001b[38;5;241m=\u001b[39m \u001b[43mhog_feature_extraction\u001b[49m\u001b[43m(\u001b[49m\u001b[43mimage_path\u001b[49m\u001b[43m)\u001b[49m\n\u001b[1;32m     11\u001b[0m     image_names\u001b[38;5;241m.\u001b[39mappend(filename)\n\u001b[1;32m     12\u001b[0m     descriptor\u001b[38;5;241m.\u001b[39mappend(hog_descriptor)\n",
      "Cell \u001b[0;32mIn[61], line 10\u001b[0m, in \u001b[0;36mhog_feature_extraction\u001b[0;34m(image_path)\u001b[0m\n\u001b[1;32m      7\u001b[0m \u001b[38;5;66;03m#deskewed_image = deskew(image)\u001b[39;00m\n\u001b[1;32m      9\u001b[0m \u001b[38;5;28;01mif\u001b[39;00m \u001b[38;5;28mlen\u001b[39m(image\u001b[38;5;241m.\u001b[39mshape) \u001b[38;5;241m!=\u001b[39m \u001b[38;5;241m2\u001b[39m:\n\u001b[0;32m---> 10\u001b[0m     \u001b[38;5;28;01mraise\u001b[39;00m \u001b[38;5;167;01mValueError\u001b[39;00m(\u001b[38;5;124m\"\u001b[39m\u001b[38;5;124mL\u001b[39m\u001b[38;5;124m'\u001b[39m\u001b[38;5;124mimmagine non è in scala di grigi.\u001b[39m\u001b[38;5;124m\"\u001b[39m)\n\u001b[1;32m     12\u001b[0m hog_descriptor, hog_image \u001b[38;5;241m=\u001b[39m hog(image, \n\u001b[1;32m     13\u001b[0m                      pixels_per_cell \u001b[38;5;241m=\u001b[39m (\u001b[38;5;241m8\u001b[39m, \u001b[38;5;241m8\u001b[39m),\n\u001b[1;32m     14\u001b[0m                      cells_per_block \u001b[38;5;241m=\u001b[39m (\u001b[38;5;241m2\u001b[39m, \u001b[38;5;241m2\u001b[39m),\n\u001b[1;32m     15\u001b[0m                      visualize \u001b[38;5;241m=\u001b[39m \u001b[38;5;28;01mTrue\u001b[39;00m)\n\u001b[1;32m     17\u001b[0m \u001b[38;5;250m\u001b[39m\u001b[38;5;124;03m\"\"\" # Display the original image and HOG image for debugging\u001b[39;00m\n\u001b[1;32m     18\u001b[0m \u001b[38;5;124;03mfig, (ax1, ax2) = plt.subplots(1, 2, figsize=(12, 6), sharex=True, sharey=True)\u001b[39;00m\n\u001b[1;32m     19\u001b[0m \n\u001b[0;32m   (...)\u001b[0m\n\u001b[1;32m     27\u001b[0m \n\u001b[1;32m     28\u001b[0m \u001b[38;5;124;03mplt.show()\"\"\"\u001b[39;00m\n",
      "\u001b[0;31mValueError\u001b[0m: L'immagine non è in scala di grigi."
     ]
    }
   ],
   "source": [
    "import os\n",
    "\n",
    "image_dir = \"data/emnist_train_images/1\"\n",
    "image_names = []\n",
    "descriptor = []\n",
    "\n",
    "for filename in os.listdir(image_dir):\n",
    "    if(filename.endswith(\".png\")):\n",
    "        image_path = os.path.join(image_dir, filename)\n",
    "        hog_descriptor = hog_feature_extraction(image_path)\n",
    "        image_names.append(filename)\n",
    "        descriptor.append(hog_descriptor)\n",
    "\n",
    "result_matrix = np.column_stack((image_names, descriptor))\n",
    "\n",
    "for row in result_matrix:\n",
    "    print(row[0]+\" -> \"+ row[1])\n"
   ]
  }
 ],
 "metadata": {
  "kernelspec": {
   "display_name": "Python 3",
   "language": "python",
   "name": "python3"
  },
  "language_info": {
   "codemirror_mode": {
    "name": "ipython",
    "version": 3
   },
   "file_extension": ".py",
   "mimetype": "text/x-python",
   "name": "python",
   "nbconvert_exporter": "python",
   "pygments_lexer": "ipython3",
   "version": "3.10.7"
  }
 },
 "nbformat": 4,
 "nbformat_minor": 2
}
