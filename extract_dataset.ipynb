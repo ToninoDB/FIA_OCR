{
 "cells": [
  {
   "cell_type": "code",
   "execution_count": 11,
   "metadata": {},
   "outputs": [
    {
     "name": "stdout",
     "output_type": "stream",
     "text": [
      "Header del file dataset-ubyte/emnist-balanced-train-images-idx3-ubyte: zero=0, data_type=8, dims=3\n",
      "Forma del dataset nel file dataset-ubyte/emnist-balanced-train-images-idx3-ubyte: (112800, 28, 28)\n",
      "Numero di byte letti dal file dataset-ubyte/emnist-balanced-train-images-idx3-ubyte: 88435200\n",
      "Header del file dataset-ubyte/emnist-balanced-train-labels-idx1-ubyte: zero=0, data_type=8, dims=1\n",
      "Forma del dataset nel file dataset-ubyte/emnist-balanced-train-labels-idx1-ubyte: (112800,)\n",
      "Numero di byte letti dal file dataset-ubyte/emnist-balanced-train-labels-idx1-ubyte: 112800\n",
      "Header del file dataset-ubyte/emnist-balanced-test-images-idx3-ubyte: zero=0, data_type=8, dims=3\n",
      "Forma del dataset nel file dataset-ubyte/emnist-balanced-test-images-idx3-ubyte: (18800, 28, 28)\n",
      "Numero di byte letti dal file dataset-ubyte/emnist-balanced-test-images-idx3-ubyte: 14739200\n",
      "Header del file dataset-ubyte/emnist-balanced-test-labels-idx1-ubyte: zero=0, data_type=8, dims=1\n",
      "Forma del dataset nel file dataset-ubyte/emnist-balanced-test-labels-idx1-ubyte: (18800,)\n",
      "Numero di byte letti dal file dataset-ubyte/emnist-balanced-test-labels-idx1-ubyte: 18800\n",
      "Immagini estratte e salvate con successo!\n"
     ]
    },
    {
     "ename": "",
     "evalue": "",
     "output_type": "error",
     "traceback": [
      "\u001b[1;31mSi è verificato un arresto anomalo del Kernel durante l'esecuzione del codice nella cella attiva o in una cella precedente. \n",
      "\u001b[1;31mEsaminare il codice nelle celle per identificare una possibile causa dell'errore. \n",
      "\u001b[1;31mPer altre informazioni, fare clic<a href='https://aka.ms/vscodeJupyterKernelCrash'>qui</a>. \n",
      "\u001b[1;31mPer ulteriori dettagli, visualizzare Jupyter <a href='command:jupyter.viewOutput'>log</a>."
     ]
    }
   ],
   "source": [
    "import os\n",
    "import struct\n",
    "import numpy as np\n",
    "from PIL import Image\n",
    "\n",
    "def read_idx(filename):\n",
    "    \"\"\"Legge un file UBYTE e restituisce un array numpy.\"\"\"\n",
    "    with open(filename, 'rb') as f:\n",
    "        header = f.read(4)\n",
    "        if len(header) != 4:\n",
    "            raise ValueError(f\"Errore nel leggere il file {filename}: il buffer letto è di {len(header)} byte, ma ci si aspettavano 4 byte.\")\n",
    "        \n",
    "        zero, data_type, dims = struct.unpack('>HBB', header)\n",
    "        print(f\"Header del file {filename}: zero={zero}, data_type={data_type}, dims={dims}\")\n",
    "\n",
    "        shape = []\n",
    "        for d in range(dims):\n",
    "            dim_size = f.read(4)\n",
    "            if len(dim_size) != 4:\n",
    "                raise ValueError(f\"Errore nel leggere la dimensione {d} del file {filename}: il buffer letto è di {len(dim_size)} byte, ma ci si aspettavano 4 byte.\")\n",
    "            shape.append(struct.unpack('>I', dim_size)[0])\n",
    "        \n",
    "        shape = tuple(shape)\n",
    "        print(f\"Forma del dataset nel file {filename}: {shape}\")\n",
    "\n",
    "        data = f.read()\n",
    "        print(f\"Numero di byte letti dal file {filename}: {len(data)}\")\n",
    "        \n",
    "        return np.frombuffer(data, dtype=np.uint8).reshape(shape)\n",
    "\n",
    "\n",
    "def save_images(images, labels, output_dir):\n",
    "    \"\"\"Salva le immagini in cartelle corrispondenti alle etichette.\"\"\"\n",
    "    num_images = images.shape[0]\n",
    "    img_dim = (images.shape[1], images.shape[2])\n",
    "    \n",
    "    for i in range(num_images):\n",
    "        label = labels[i]\n",
    "        label_dir = os.path.join(output_dir, str(label))\n",
    "        os.makedirs(label_dir, exist_ok=True)\n",
    "        \n",
    "        img = Image.fromarray(images[i])\n",
    "        img_path = os.path.join(label_dir, f'{i}.png')\n",
    "        img.save(img_path)\n",
    "\n",
    "def process_dataset(image_file, label_file, output_dir):\n",
    "    \"\"\"Elabora i file UBYTE e salva le immagini in formato PNG.\"\"\"\n",
    "    images = read_idx(image_file)\n",
    "    labels = read_idx(label_file)\n",
    "    save_images(images, labels, output_dir)\n",
    "\n",
    "# Percorsi ai file UBYTE\n",
    "train_images_file = 'dataset-ubyte/emnist-balanced-train-images-idx3-ubyte'\n",
    "train_labels_file = 'dataset-ubyte/emnist-balanced-train-labels-idx1-ubyte'\n",
    "test_images_file = 'dataset-ubyte/emnist-balanced-test-images-idx3-ubyte'\n",
    "test_labels_file = 'dataset-ubyte/emnist-balanced-test-labels-idx1-ubyte'\n",
    "\n",
    "# Cartelle di output\n",
    "train_output_dir = 'emnist_train'\n",
    "test_output_dir = 'emnist_test'\n",
    "\n",
    "# Elaborazione dei dataset\n",
    "process_dataset(train_images_file, train_labels_file, train_output_dir)\n",
    "process_dataset(test_images_file, test_labels_file, test_output_dir)\n",
    "\n",
    "print(\"Immagini estratte e salvate con successo!\")\n"
   ]
  }
 ],
 "metadata": {
  "kernelspec": {
   "display_name": "Python 3",
   "language": "python",
   "name": "python3"
  },
  "language_info": {
   "codemirror_mode": {
    "name": "ipython",
    "version": 3
   },
   "file_extension": ".py",
   "mimetype": "text/x-python",
   "name": "python",
   "nbconvert_exporter": "python",
   "pygments_lexer": "ipython3",
   "version": "3.10.7"
  }
 },
 "nbformat": 4,
 "nbformat_minor": 2
}
